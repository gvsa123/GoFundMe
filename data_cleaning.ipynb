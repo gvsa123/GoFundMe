{
 "cells": [
  {
   "cell_type": "code",
   "execution_count": 1,
   "metadata": {},
   "outputs": [],
   "source": [
    "import pandas as pd\n",
    "import re\n",
    "\n",
    "\n",
    "df = pd.read_csv('gofund_data_master.csv')"
   ]
  },
  {
   "cell_type": "code",
   "execution_count": 2,
   "metadata": {},
   "outputs": [],
   "source": [
    "pattern_all_punc = '([.?!])([A-Z])'"
   ]
  },
  {
   "cell_type": "code",
   "execution_count": 3,
   "metadata": {},
   "outputs": [],
   "source": [
    "pattern_no_punc = '([a-z+])([A-Z])'"
   ]
  },
  {
   "cell_type": "code",
   "execution_count": 4,
   "metadata": {},
   "outputs": [
    {
     "data": {
      "text/plain": [
       "'\\nIt feels like the world has stopped, doesn’t itYet, I am very, very aware that I am here – in Calgary – with my family and neighbors, friends and others ( though virtually or\\xa0through significant social distancing! ) during this unprecedented time.As a photographer, I typically spend time capturing images of pets, individuals, families - capturing all of life’s moments. Those moments are still happening in homes right now. I know it. But I can’t be there to capture them.Like everyone, Calgary residents are doing their part to\\xa0stay at home.\\xa0Starting today, I am offering to take five minute ‘Front Steps Portraits” of Calgary’s furry residents.\\xa0\\xa0I am taking time out of my weekend (is the very one on an extended weekend?!) to scurry around town and snap super fast images of your furry pals and their families on your front steps.\\xa0You will know when I am coming. You can step outside, where I’ll be standing near your driveway\\xa0or street, at least 10 feet away. I’ll take a couple quick shots and leave. I physically interact with no one (not even the furry residents - inner cry), and touch nothing, during these sessions.\\xa0However, I *do* smile and laugh with you, and don’t we all need a little bit of that right now?After your quick session, I will email you the digital file of your portrait.\\xa0 In exchange, I am asking you to make a good faith donation to Pawsitive Match Rescue Foundation.Suggested donation is $50 but any amount is appreciated as I know times are tough on all of us right now #albertastrongI will be posting these images on Facebook and Instagram using the hashtag #thefrontstepsproject.\\xa0 Please share these posts. Let’s spread the word and foster a community! The purpose of this project is to bring us together when we might feel isolated.\\xa0 I aim to highlight those furry faces of our community during a time when we might not see them in passing at the doggy park, daycare, or pet friendly coffee shop. Participating in this project is also an opportunity to step up to help those who need it most right now in Calgary.\\xa0To be clear:\\xa0I will be taking images outside ONLY and from at least 10 feet away. Our session will be brief, likely just 5 minutes. This is not a typical get-dressed-up-and-pose-for-the-photographer session. Want to stand outside in your pajamas and slippers? Sounds good to me. Suited up for a nice long dog walk? Love it!\\xa0\\xa0Be you. \\xa0\\n\\n*******More information about Pawsitive Match Rescue Foundation Adoptions: Pawsitive Match saves dogs and cats facing life-threatening circumstances in Canada, the United States, and Mexico. Many animals in our program come from shelters that have no choice but to euthanize due to over-crowding or because they are shutting down, as well as stray animals that have no home. We also help save animals in local rural areas and on a case by case basis, we may assist with owner surrenders. In many cases we are the only hope these cats and dogs have, as many shelters come to us when they\\n'"
      ]
     },
     "execution_count": 4,
     "metadata": {},
     "output_type": "execute_result"
    }
   ],
   "source": [
    "df['story'][0]"
   ]
  },
  {
   "cell_type": "code",
   "execution_count": 9,
   "metadata": {},
   "outputs": [],
   "source": [
    "df1['story'] = df['story'].str.replace(pattern_all_punc, r\"\\1 \\2\", regex=True)"
   ]
  },
  {
   "cell_type": "code",
   "execution_count": 14,
   "metadata": {},
   "outputs": [
    {
     "data": {
      "text/plain": [
       "0        \\nIt feels like the world has stopped, doesn’t...\n",
       "1        Torchlight is a community-based gaming store l...\n",
       "2        Want to join me and my team in making a differ...\n",
       "3        We are living in an unprecedented time in hist...\n",
       "4        \\nwith the emergence of COVID-19 we are in unc...\n",
       "                               ...                        \n",
       "7073     It is with a heavy heart that I write, on Mond...\n",
       "7074     “Weaver, weaver, weave his thread whole and st...\n",
       "7075     On Friday, July 24th, Daniel Bertini was tragi...\n",
       "7076     As many of you know, Rocquelle's husband, Trav...\n",
       "story    0       \\nIt feels like the world has stopped,...\n",
       "Name: story, Length: 7078, dtype: object"
      ]
     },
     "execution_count": 14,
     "metadata": {},
     "output_type": "execute_result"
    }
   ],
   "source": [
    "df1"
   ]
  },
  {
   "cell_type": "code",
   "execution_count": 15,
   "metadata": {},
   "outputs": [],
   "source": [
    "df2 = df1.str.replace(pattern_no_punc, r\"\\1. \\2\", regex=True)"
   ]
  },
  {
   "cell_type": "code",
   "execution_count": 16,
   "metadata": {},
   "outputs": [
    {
     "data": {
      "text/plain": [
       "'\\nIt feels like the world has stopped, doesn’t it. Yet, I am very, very aware that I am here – in Calgary – with my family and neighbors, friends and others ( though virtually or\\xa0through significant social distancing! ) during this unprecedented time. As a photographer, I typically spend time capturing images of pets, individuals, families - capturing all of life’s moments. Those moments are still happening in homes right now. I know it. But I can’t be there to capture them. Like everyone, Calgary residents are doing their part to\\xa0stay at home.\\xa0Starting today, I am offering to take five minute ‘Front Steps Portraits” of Calgary’s furry residents.\\xa0\\xa0I am taking time out of my weekend (is the very one on an extended weekend?!) to scurry around town and snap super fast images of your furry pals and their families on your front steps.\\xa0You will know when I am coming. You can step outside, where I’ll be standing near your driveway\\xa0or street, at least 10 feet away. I’ll take a couple quick shots and leave. I physically interact with no one (not even the furry residents - inner cry), and touch nothing, during these sessions.\\xa0However, I *do* smile and laugh with you, and don’t we all need a little bit of that right now? After your quick session, I will email you the digital file of your portrait.\\xa0 In exchange, I am asking you to make a good faith donation to Pawsitive Match Rescue Foundation. Suggested donation is $50 but any amount is appreciated as I know times are tough on all of us right now #albertastrong. I will be posting these images on Facebook and Instagram using the hashtag #thefrontstepsproject.\\xa0 Please share these posts. Let’s spread the word and foster a community! The purpose of this project is to bring us together when we might feel isolated.\\xa0 I aim to highlight those furry faces of our community during a time when we might not see them in passing at the doggy park, daycare, or pet friendly coffee shop. Participating in this project is also an opportunity to step up to help those who need it most right now in Calgary.\\xa0To be clear:\\xa0I will be taking images outside ONLY and from at least 10 feet away. Our session will be brief, likely just 5 minutes. This is not a typical get-dressed-up-and-pose-for-the-photographer session. Want to stand outside in your pajamas and slippers? Sounds good to me. Suited up for a nice long dog walk? Love it!\\xa0\\xa0Be you. \\xa0\\n\\n*******More information about Pawsitive Match Rescue Foundation Adoptions: Pawsitive Match saves dogs and cats facing life-threatening circumstances in Canada, the United States, and Mexico. Many animals in our program come from shelters that have no choice but to euthanize due to over-crowding or because they are shutting down, as well as stray animals that have no home. We also help save animals in local rural areas and on a case by case basis, we may assist with owner surrenders. In many cases we are the only hope these cats and dogs have, as many shelters come to us when they\\n'"
      ]
     },
     "execution_count": 16,
     "metadata": {},
     "output_type": "execute_result"
    }
   ],
   "source": [
    "df2[0]"
   ]
  },
  {
   "cell_type": "code",
   "execution_count": 24,
   "metadata": {},
   "outputs": [],
   "source": [
    "df['c_story'] = df2.str.strip('\\n')"
   ]
  },
  {
   "cell_type": "code",
   "execution_count": 29,
   "metadata": {},
   "outputs": [
    {
     "data": {
      "text/plain": [
       "Index(['Unnamed: 0', 'url_index', 'title', 'raised', 'target', 'm_campaign',\n",
       "       'created_date', 'donors', 'shares', 'followers', 'scrape_date',\n",
       "       'c_story'],\n",
       "      dtype='object')"
      ]
     },
     "execution_count": 29,
     "metadata": {},
     "output_type": "execute_result"
    }
   ],
   "source": [
    "df.columns"
   ]
  },
  {
   "cell_type": "code",
   "execution_count": 28,
   "metadata": {},
   "outputs": [],
   "source": [
    "df.drop(columns='story', inplace=True)"
   ]
  },
  {
   "cell_type": "code",
   "execution_count": 51,
   "metadata": {},
   "outputs": [],
   "source": [
    "df['scrape_date'] = pd.to_datetime(df['scrape_date'], format='%Y-%m-%d')"
   ]
  },
  {
   "cell_type": "code",
   "execution_count": 57,
   "metadata": {},
   "outputs": [
    {
     "data": {
      "text/html": [
       "<div>\n",
       "<style scoped>\n",
       "    .dataframe tbody tr th:only-of-type {\n",
       "        vertical-align: middle;\n",
       "    }\n",
       "\n",
       "    .dataframe tbody tr th {\n",
       "        vertical-align: top;\n",
       "    }\n",
       "\n",
       "    .dataframe thead th {\n",
       "        text-align: right;\n",
       "    }\n",
       "</style>\n",
       "<table border=\"1\" class=\"dataframe\">\n",
       "  <thead>\n",
       "    <tr style=\"text-align: right;\">\n",
       "      <th></th>\n",
       "      <th>Unnamed: 0</th>\n",
       "      <th>url_index</th>\n",
       "      <th>title</th>\n",
       "      <th>raised</th>\n",
       "      <th>target</th>\n",
       "      <th>m_campaign</th>\n",
       "      <th>created_date</th>\n",
       "      <th>donors</th>\n",
       "      <th>shares</th>\n",
       "      <th>followers</th>\n",
       "      <th>scrape_date</th>\n",
       "      <th>c_story</th>\n",
       "    </tr>\n",
       "  </thead>\n",
       "  <tbody>\n",
       "    <tr>\n",
       "      <th>0</th>\n",
       "      <td>0</td>\n",
       "      <td>the-front-steps-project-yyc\\n</td>\n",
       "      <td>The Front Steps Project YYC</td>\n",
       "      <td>$695</td>\n",
       "      <td>$1,000</td>\n",
       "      <td>animal-fundraiser</td>\n",
       "      <td>2020-03-27</td>\n",
       "      <td>16.0</td>\n",
       "      <td>21.0</td>\n",
       "      <td>14.0</td>\n",
       "      <td>2020-08-21 22:50:05.046051</td>\n",
       "      <td>It feels like the world has stopped, doesn’t i...</td>\n",
       "    </tr>\n",
       "    <tr>\n",
       "      <th>1</th>\n",
       "      <td>1</td>\n",
       "      <td>torchlight-covid19-fund-for-joseph-brant-hospi...</td>\n",
       "      <td>Torchlight COVID-19 Fund for Joseph Brant Hosp...</td>\n",
       "      <td>$695</td>\n",
       "      <td>$300</td>\n",
       "      <td>medical-fundraiser</td>\n",
       "      <td>2020-05-04</td>\n",
       "      <td>10.0</td>\n",
       "      <td>0.0</td>\n",
       "      <td>10.0</td>\n",
       "      <td>2020-08-21 22:50:05.046051</td>\n",
       "      <td>Torchlight is a community-based gaming store l...</td>\n",
       "    </tr>\n",
       "    <tr>\n",
       "      <th>2</th>\n",
       "      <td>2</td>\n",
       "      <td>actions-against-abuse\\n</td>\n",
       "      <td>Actions Against Abuse</td>\n",
       "      <td>$690</td>\n",
       "      <td>$1,000</td>\n",
       "      <td>volunteer-fundraiser</td>\n",
       "      <td>2020-07-04</td>\n",
       "      <td>28.0</td>\n",
       "      <td>70.0</td>\n",
       "      <td>27.0</td>\n",
       "      <td>2020-08-21 22:50:05.046051</td>\n",
       "      <td>Want to join me and my team in making a differ...</td>\n",
       "    </tr>\n",
       "    <tr>\n",
       "      <th>3</th>\n",
       "      <td>3</td>\n",
       "      <td>club-quarantine\\n</td>\n",
       "      <td>#ClubQUARANTINE Canada</td>\n",
       "      <td>$690</td>\n",
       "      <td>$500</td>\n",
       "      <td>emergency-fundraiser</td>\n",
       "      <td>2020-03-20</td>\n",
       "      <td>16.0</td>\n",
       "      <td>0.0</td>\n",
       "      <td>16.0</td>\n",
       "      <td>2020-08-21 22:50:05.046051</td>\n",
       "      <td>We are living in an unprecedented time in hist...</td>\n",
       "    </tr>\n",
       "    <tr>\n",
       "      <th>4</th>\n",
       "      <td>4</td>\n",
       "      <td>wheeling-for-kids-help-phone\\n</td>\n",
       "      <td>Wheeling for Kids Help Phone</td>\n",
       "      <td>$690</td>\n",
       "      <td>$1,000</td>\n",
       "      <td>medical-fundraiser</td>\n",
       "      <td>2020-04-15</td>\n",
       "      <td>12.0</td>\n",
       "      <td>0.0</td>\n",
       "      <td>12.0</td>\n",
       "      <td>2020-08-21 22:50:05.046051</td>\n",
       "      <td>with the emergence of COVID-19 we are in uncer...</td>\n",
       "    </tr>\n",
       "    <tr>\n",
       "      <th>...</th>\n",
       "      <td>...</td>\n",
       "      <td>...</td>\n",
       "      <td>...</td>\n",
       "      <td>...</td>\n",
       "      <td>...</td>\n",
       "      <td>...</td>\n",
       "      <td>...</td>\n",
       "      <td>...</td>\n",
       "      <td>...</td>\n",
       "      <td>...</td>\n",
       "      <td>...</td>\n",
       "      <td>...</td>\n",
       "    </tr>\n",
       "    <tr>\n",
       "      <th>7072</th>\n",
       "      <td>7072</td>\n",
       "      <td>bronte-and-caitano\\n</td>\n",
       "      <td>In memory of Massimo Giannobile</td>\n",
       "      <td>$26,010</td>\n",
       "      <td>$1</td>\n",
       "      <td>memorial-fundraiser</td>\n",
       "      <td>2019-12-14 00:00:00</td>\n",
       "      <td>234.0</td>\n",
       "      <td>510.0</td>\n",
       "      <td>234.0</td>\n",
       "      <td>2020-08-21 18:39:02.911487</td>\n",
       "      <td>This page was created by family on behalf of S...</td>\n",
       "    </tr>\n",
       "    <tr>\n",
       "      <th>7073</th>\n",
       "      <td>7073</td>\n",
       "      <td>family-fund-in-memory-of-josiah-black\\n</td>\n",
       "      <td>Family Fund in Memory of Josiah Black</td>\n",
       "      <td>$25,951</td>\n",
       "      <td>$100,000</td>\n",
       "      <td>memorial-fundraiser</td>\n",
       "      <td>2020-06-22 00:00:00</td>\n",
       "      <td>145.0</td>\n",
       "      <td>12.0</td>\n",
       "      <td>145.0</td>\n",
       "      <td>2020-08-21 18:39:02.911487</td>\n",
       "      <td>It is with a heavy heart that I write, on Mond...</td>\n",
       "    </tr>\n",
       "    <tr>\n",
       "      <th>7074</th>\n",
       "      <td>7074</td>\n",
       "      <td>a-greenhouse-for-pablo\\n</td>\n",
       "      <td>A Greenhouse for Pablo</td>\n",
       "      <td>$25,815</td>\n",
       "      <td>$25,000</td>\n",
       "      <td>memorial-fundraiser</td>\n",
       "      <td>2020-04-30 00:00:00</td>\n",
       "      <td>298.0</td>\n",
       "      <td>1.0</td>\n",
       "      <td>298.0</td>\n",
       "      <td>2020-08-21 18:39:02.911487</td>\n",
       "      <td>“Weaver, weaver, weave his thread whole and st...</td>\n",
       "    </tr>\n",
       "    <tr>\n",
       "      <th>7075</th>\n",
       "      <td>7075</td>\n",
       "      <td>daniel-bertini-memorial-award\\n</td>\n",
       "      <td>Daniel Bertini Memorial Award</td>\n",
       "      <td>$25,610</td>\n",
       "      <td>$5,000</td>\n",
       "      <td>memorial-fundraiser</td>\n",
       "      <td>2020-07-30 00:00:00</td>\n",
       "      <td>369.0</td>\n",
       "      <td>962.0</td>\n",
       "      <td>369.0</td>\n",
       "      <td>2020-08-21 18:39:02.911487</td>\n",
       "      <td>On Friday, July 24th, Daniel Bertini was tragi...</td>\n",
       "    </tr>\n",
       "    <tr>\n",
       "      <th>7076</th>\n",
       "      <td>7076</td>\n",
       "      <td>paying-tribute-to-travis-braaten\\n</td>\n",
       "      <td>Paying Tribute to Travis Braaten</td>\n",
       "      <td>$25,600</td>\n",
       "      <td>$5,000</td>\n",
       "      <td>memorial-fundraiser</td>\n",
       "      <td>2020-02-25 00:00:00</td>\n",
       "      <td>140.0</td>\n",
       "      <td>11.0</td>\n",
       "      <td>140.0</td>\n",
       "      <td>2020-08-21 18:39:02.911487</td>\n",
       "      <td>As many of you know, Rocquelle's husband, Trav...</td>\n",
       "    </tr>\n",
       "  </tbody>\n",
       "</table>\n",
       "<p>7077 rows × 12 columns</p>\n",
       "</div>"
      ],
      "text/plain": [
       "      Unnamed: 0                                          url_index  \\\n",
       "0              0                      the-front-steps-project-yyc\\n   \n",
       "1              1  torchlight-covid19-fund-for-joseph-brant-hospi...   \n",
       "2              2                            actions-against-abuse\\n   \n",
       "3              3                                  club-quarantine\\n   \n",
       "4              4                     wheeling-for-kids-help-phone\\n   \n",
       "...          ...                                                ...   \n",
       "7072        7072                               bronte-and-caitano\\n   \n",
       "7073        7073            family-fund-in-memory-of-josiah-black\\n   \n",
       "7074        7074                           a-greenhouse-for-pablo\\n   \n",
       "7075        7075                    daniel-bertini-memorial-award\\n   \n",
       "7076        7076                 paying-tribute-to-travis-braaten\\n   \n",
       "\n",
       "                                                  title   raised    target  \\\n",
       "0                           The Front Steps Project YYC     $695    $1,000   \n",
       "1     Torchlight COVID-19 Fund for Joseph Brant Hosp...     $695      $300   \n",
       "2                                 Actions Against Abuse     $690    $1,000   \n",
       "3                                #ClubQUARANTINE Canada     $690      $500   \n",
       "4                          Wheeling for Kids Help Phone     $690    $1,000   \n",
       "...                                                 ...      ...       ...   \n",
       "7072                    In memory of Massimo Giannobile  $26,010        $1   \n",
       "7073              Family Fund in Memory of Josiah Black  $25,951  $100,000   \n",
       "7074                             A Greenhouse for Pablo  $25,815   $25,000   \n",
       "7075                      Daniel Bertini Memorial Award  $25,610    $5,000   \n",
       "7076                   Paying Tribute to Travis Braaten  $25,600    $5,000   \n",
       "\n",
       "                m_campaign         created_date  donors  shares  followers  \\\n",
       "0        animal-fundraiser           2020-03-27    16.0    21.0       14.0   \n",
       "1       medical-fundraiser           2020-05-04    10.0     0.0       10.0   \n",
       "2     volunteer-fundraiser           2020-07-04    28.0    70.0       27.0   \n",
       "3     emergency-fundraiser           2020-03-20    16.0     0.0       16.0   \n",
       "4       medical-fundraiser           2020-04-15    12.0     0.0       12.0   \n",
       "...                    ...                  ...     ...     ...        ...   \n",
       "7072   memorial-fundraiser  2019-12-14 00:00:00   234.0   510.0      234.0   \n",
       "7073   memorial-fundraiser  2020-06-22 00:00:00   145.0    12.0      145.0   \n",
       "7074   memorial-fundraiser  2020-04-30 00:00:00   298.0     1.0      298.0   \n",
       "7075   memorial-fundraiser  2020-07-30 00:00:00   369.0   962.0      369.0   \n",
       "7076   memorial-fundraiser  2020-02-25 00:00:00   140.0    11.0      140.0   \n",
       "\n",
       "                    scrape_date  \\\n",
       "0    2020-08-21 22:50:05.046051   \n",
       "1    2020-08-21 22:50:05.046051   \n",
       "2    2020-08-21 22:50:05.046051   \n",
       "3    2020-08-21 22:50:05.046051   \n",
       "4    2020-08-21 22:50:05.046051   \n",
       "...                         ...   \n",
       "7072 2020-08-21 18:39:02.911487   \n",
       "7073 2020-08-21 18:39:02.911487   \n",
       "7074 2020-08-21 18:39:02.911487   \n",
       "7075 2020-08-21 18:39:02.911487   \n",
       "7076 2020-08-21 18:39:02.911487   \n",
       "\n",
       "                                                c_story  \n",
       "0     It feels like the world has stopped, doesn’t i...  \n",
       "1     Torchlight is a community-based gaming store l...  \n",
       "2     Want to join me and my team in making a differ...  \n",
       "3     We are living in an unprecedented time in hist...  \n",
       "4     with the emergence of COVID-19 we are in uncer...  \n",
       "...                                                 ...  \n",
       "7072  This page was created by family on behalf of S...  \n",
       "7073  It is with a heavy heart that I write, on Mond...  \n",
       "7074  “Weaver, weaver, weave his thread whole and st...  \n",
       "7075  On Friday, July 24th, Daniel Bertini was tragi...  \n",
       "7076  As many of you know, Rocquelle's husband, Trav...  \n",
       "\n",
       "[7077 rows x 12 columns]"
      ]
     },
     "execution_count": 57,
     "metadata": {},
     "output_type": "execute_result"
    }
   ],
   "source": [
    "df"
   ]
  },
  {
   "cell_type": "code",
   "execution_count": 58,
   "metadata": {},
   "outputs": [],
   "source": [
    "df.to_csv('new_test_data.csv', date_format='%Y-%m-%d', index=False)"
   ]
  },
  {
   "cell_type": "code",
   "execution_count": 59,
   "metadata": {},
   "outputs": [
    {
     "data": {
      "text/plain": [
       "'It feels like the world has stopped, doesn’t it. Yet, I am very, very aware that I am here – in Calgary – with my family and neighbors, friends and others ( though virtually or\\xa0through significant social distancing! ) during this unprecedented time. As a photographer, I typically spend time capturing images of pets, individuals, families - capturing all of life’s moments. Those moments are still happening in homes right now. I know it. But I can’t be there to capture them. Like everyone, Calgary residents are doing their part to\\xa0stay at home.\\xa0Starting today, I am offering to take five minute ‘Front Steps Portraits” of Calgary’s furry residents.\\xa0\\xa0I am taking time out of my weekend (is the very one on an extended weekend?!) to scurry around town and snap super fast images of your furry pals and their families on your front steps.\\xa0You will know when I am coming. You can step outside, where I’ll be standing near your driveway\\xa0or street, at least 10 feet away. I’ll take a couple quick shots and leave. I physically interact with no one (not even the furry residents - inner cry), and touch nothing, during these sessions.\\xa0However, I *do* smile and laugh with you, and don’t we all need a little bit of that right now? After your quick session, I will email you the digital file of your portrait.\\xa0 In exchange, I am asking you to make a good faith donation to Pawsitive Match Rescue Foundation. Suggested donation is $50 but any amount is appreciated as I know times are tough on all of us right now #albertastrong. I will be posting these images on Facebook and Instagram using the hashtag #thefrontstepsproject.\\xa0 Please share these posts. Let’s spread the word and foster a community! The purpose of this project is to bring us together when we might feel isolated.\\xa0 I aim to highlight those furry faces of our community during a time when we might not see them in passing at the doggy park, daycare, or pet friendly coffee shop. Participating in this project is also an opportunity to step up to help those who need it most right now in Calgary.\\xa0To be clear:\\xa0I will be taking images outside ONLY and from at least 10 feet away. Our session will be brief, likely just 5 minutes. This is not a typical get-dressed-up-and-pose-for-the-photographer session. Want to stand outside in your pajamas and slippers? Sounds good to me. Suited up for a nice long dog walk? Love it!\\xa0\\xa0Be you. \\xa0\\n\\n*******More information about Pawsitive Match Rescue Foundation Adoptions: Pawsitive Match saves dogs and cats facing life-threatening circumstances in Canada, the United States, and Mexico. Many animals in our program come from shelters that have no choice but to euthanize due to over-crowding or because they are shutting down, as well as stray animals that have no home. We also help save animals in local rural areas and on a case by case basis, we may assist with owner surrenders. In many cases we are the only hope these cats and dogs have, as many shelters come to us when they'"
      ]
     },
     "execution_count": 59,
     "metadata": {},
     "output_type": "execute_result"
    }
   ],
   "source": [
    "df['c_story'][0]"
   ]
  },
  {
   "cell_type": "code",
   "execution_count": null,
   "metadata": {},
   "outputs": [],
   "source": []
  }
 ],
 "metadata": {
  "kernelspec": {
   "display_name": "Python 3",
   "language": "python",
   "name": "python3"
  },
  "language_info": {
   "codemirror_mode": {
    "name": "ipython",
    "version": 3
   },
   "file_extension": ".py",
   "mimetype": "text/x-python",
   "name": "python",
   "nbconvert_exporter": "python",
   "pygments_lexer": "ipython3",
   "version": "3.8.3"
  }
 },
 "nbformat": 4,
 "nbformat_minor": 4
}
