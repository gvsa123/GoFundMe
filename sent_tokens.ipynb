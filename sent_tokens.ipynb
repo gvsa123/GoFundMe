{
 "cells": [
  {
   "cell_type": "code",
   "execution_count": 1,
   "metadata": {},
   "outputs": [],
   "source": [
    "import pandas as pd\n",
    "import nltk\n",
    "from nltk.tokenize import punkt"
   ]
  },
  {
   "cell_type": "code",
   "execution_count": 2,
   "metadata": {},
   "outputs": [],
   "source": [
    "df = pd.read_csv('gofund_data.csv')"
   ]
  },
  {
   "cell_type": "code",
   "execution_count": 3,
   "metadata": {},
   "outputs": [
    {
     "data": {
      "text/plain": [
       "Unnamed: 0        int64\n",
       "url_index        object\n",
       "title            object\n",
       "raised           object\n",
       "target           object\n",
       "m_campaign       object\n",
       "created_date     object\n",
       "donors          float64\n",
       "shares          float64\n",
       "followers       float64\n",
       "scrape_date      object\n",
       "c_story          object\n",
       "dtype: object"
      ]
     },
     "execution_count": 3,
     "metadata": {},
     "output_type": "execute_result"
    }
   ],
   "source": [
    "df.dtypes"
   ]
  },
  {
   "cell_type": "code",
   "execution_count": 4,
   "metadata": {},
   "outputs": [],
   "source": [
    "sr = pd.Series(df['c_story'])"
   ]
  },
  {
   "cell_type": "code",
   "execution_count": 5,
   "metadata": {},
   "outputs": [],
   "source": [
    "sent_detect = nltk.data.load('tokenizers/punkt/english.pickle')"
   ]
  },
  {
   "cell_type": "code",
   "execution_count": 6,
   "metadata": {},
   "outputs": [],
   "source": [
    "df['story_tokens'] = df['c_story'].astype(str).apply(sent_detect.tokenize)"
   ]
  },
  {
   "cell_type": "code",
   "execution_count": 7,
   "metadata": {},
   "outputs": [
    {
     "data": {
      "text/plain": [
       "0       [It feels like the world has stopped, doesn’t ...\n",
       "1       [Torchlight is a community-based gaming store ...\n",
       "2       [Want to join me and my team in making a diffe...\n",
       "3       [We are living in an unprecedented time in his...\n",
       "4       [with the emergence of COVID-19 we are in unce...\n",
       "                              ...                        \n",
       "7072    [This page was created by family on behalf of ...\n",
       "7073    [It is with a heavy heart that I write, on Mon...\n",
       "7074    [“Weaver, weaver, weave his thread whole and s...\n",
       "7075    [On Friday, July 24th, Daniel Bertini was trag...\n",
       "7076    [As many of you know, Rocquelle's husband, Tra...\n",
       "Name: story_tokens, Length: 7077, dtype: object"
      ]
     },
     "execution_count": 7,
     "metadata": {},
     "output_type": "execute_result"
    }
   ],
   "source": [
    "df.story_tokens"
   ]
  },
  {
   "cell_type": "code",
   "execution_count": 8,
   "metadata": {},
   "outputs": [],
   "source": [
    "df.to_csv('test_gofund_data.csv', index=False)"
   ]
  },
  {
   "cell_type": "code",
   "execution_count": 9,
   "metadata": {},
   "outputs": [
    {
     "data": {
      "text/plain": [
       "'It feels like the world has stopped, doesn’t it.'"
      ]
     },
     "execution_count": 9,
     "metadata": {},
     "output_type": "execute_result"
    }
   ],
   "source": [
    "df.story_tokens[0][0]"
   ]
  },
  {
   "cell_type": "code",
   "execution_count": 10,
   "metadata": {},
   "outputs": [
    {
     "data": {
      "text/plain": [
       "'Yet, I am very, very aware that I am here – in Calgary – with my family and neighbors, friends and others ( though virtually or\\xa0through significant social distancing! )'"
      ]
     },
     "execution_count": 10,
     "metadata": {},
     "output_type": "execute_result"
    }
   ],
   "source": [
    "str(df.story_tokens[0][1])"
   ]
  },
  {
   "cell_type": "code",
   "execution_count": 11,
   "metadata": {},
   "outputs": [
    {
     "name": "stdout",
     "output_type": "stream",
     "text": [
      "Yet, I am very, very aware that I am here – in Calgary – with my family and neighbors, friends and others ( though virtually or through significant social distancing! )\n"
     ]
    }
   ],
   "source": [
    "print(df.story_tokens[0][1])"
   ]
  },
  {
   "cell_type": "code",
   "execution_count": null,
   "metadata": {},
   "outputs": [],
   "source": []
  }
 ],
 "metadata": {
  "kernelspec": {
   "display_name": "Python 3",
   "language": "python",
   "name": "python3"
  },
  "language_info": {
   "codemirror_mode": {
    "name": "ipython",
    "version": 3
   },
   "file_extension": ".py",
   "mimetype": "text/x-python",
   "name": "python",
   "nbconvert_exporter": "python",
   "pygments_lexer": "ipython3",
   "version": "3.8.3"
  }
 },
 "nbformat": 4,
 "nbformat_minor": 4
}
