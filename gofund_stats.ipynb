{
 "cells": [
  {
   "cell_type": "markdown",
   "metadata": {},
   "source": [
    "# Descriptive Statistics for the GoFundMe dataset"
   ]
  },
  {
   "cell_type": "code",
   "execution_count": 1,
   "metadata": {},
   "outputs": [],
   "source": [
    "import pandas as pd\n",
    "import matplotlib.pyplot as plt"
   ]
  },
  {
   "cell_type": "code",
   "execution_count": 2,
   "metadata": {},
   "outputs": [],
   "source": [
    "df = pd.read_csv('gofund_data.csv', usecols=['m_campaign', 'title', 'raised', 'target', 'donors', 'shares', 'followers'])"
   ]
  },
  {
   "cell_type": "code",
   "execution_count": 3,
   "metadata": {},
   "outputs": [],
   "source": [
    "## Remove currency symbols | convert to type(float)\n",
    "df['raised'] = df['raised'].str.replace('€', '')\n",
    "df['target'] = df['target'].str.replace('€', '')\n",
    "df['raised'] = df['raised'].str.replace('$', '')\n",
    "df['target'] = df['target'].str.replace('$', '')\n",
    "df['raised'] = df['raised'].str.replace(',', '')\n",
    "df['target'] = df['target'].str.replace(',', '')\n",
    "df['raised'] = df['raised'].astype(int)\n",
    "df['target'] = df['target'].astype(int)"
   ]
  },
  {
   "cell_type": "code",
   "execution_count": 4,
   "metadata": {},
   "outputs": [
    {
     "data": {
      "text/plain": [
       "title          object\n",
       "raised          int64\n",
       "target          int64\n",
       "m_campaign     object\n",
       "donors        float64\n",
       "shares        float64\n",
       "followers     float64\n",
       "dtype: object"
      ]
     },
     "execution_count": 4,
     "metadata": {},
     "output_type": "execute_result"
    }
   ],
   "source": [
    "df.dtypes"
   ]
  },
  {
   "cell_type": "code",
   "execution_count": 5,
   "metadata": {},
   "outputs": [
    {
     "data": {
      "text/plain": [
       "Index(['title', 'raised', 'target', 'm_campaign', 'donors', 'shares',\n",
       "       'followers'],\n",
       "      dtype='object')"
      ]
     },
     "execution_count": 5,
     "metadata": {},
     "output_type": "execute_result"
    }
   ],
   "source": [
    "df.columns"
   ]
  },
  {
   "cell_type": "code",
   "execution_count": 6,
   "metadata": {},
   "outputs": [
    {
     "data": {
      "text/html": [
       "<div>\n",
       "<style scoped>\n",
       "    .dataframe tbody tr th:only-of-type {\n",
       "        vertical-align: middle;\n",
       "    }\n",
       "\n",
       "    .dataframe tbody tr th {\n",
       "        vertical-align: top;\n",
       "    }\n",
       "\n",
       "    .dataframe thead th {\n",
       "        text-align: right;\n",
       "    }\n",
       "</style>\n",
       "<table border=\"1\" class=\"dataframe\">\n",
       "  <thead>\n",
       "    <tr style=\"text-align: right;\">\n",
       "      <th></th>\n",
       "      <th>title</th>\n",
       "      <th>raised</th>\n",
       "      <th>target</th>\n",
       "      <th>m_campaign</th>\n",
       "      <th>donors</th>\n",
       "      <th>shares</th>\n",
       "      <th>followers</th>\n",
       "    </tr>\n",
       "  </thead>\n",
       "  <tbody>\n",
       "    <tr>\n",
       "      <th>0</th>\n",
       "      <td>The Front Steps Project YYC</td>\n",
       "      <td>695</td>\n",
       "      <td>1000</td>\n",
       "      <td>animal-fundraiser</td>\n",
       "      <td>16.0</td>\n",
       "      <td>21.0</td>\n",
       "      <td>14.0</td>\n",
       "    </tr>\n",
       "    <tr>\n",
       "      <th>1</th>\n",
       "      <td>Torchlight COVID-19 Fund for Joseph Brant Hosp...</td>\n",
       "      <td>695</td>\n",
       "      <td>300</td>\n",
       "      <td>medical-fundraiser</td>\n",
       "      <td>10.0</td>\n",
       "      <td>0.0</td>\n",
       "      <td>10.0</td>\n",
       "    </tr>\n",
       "    <tr>\n",
       "      <th>2</th>\n",
       "      <td>Actions Against Abuse</td>\n",
       "      <td>690</td>\n",
       "      <td>1000</td>\n",
       "      <td>volunteer-fundraiser</td>\n",
       "      <td>28.0</td>\n",
       "      <td>70.0</td>\n",
       "      <td>27.0</td>\n",
       "    </tr>\n",
       "    <tr>\n",
       "      <th>3</th>\n",
       "      <td>#ClubQUARANTINE Canada</td>\n",
       "      <td>690</td>\n",
       "      <td>500</td>\n",
       "      <td>emergency-fundraiser</td>\n",
       "      <td>16.0</td>\n",
       "      <td>0.0</td>\n",
       "      <td>16.0</td>\n",
       "    </tr>\n",
       "    <tr>\n",
       "      <th>4</th>\n",
       "      <td>Wheeling for Kids Help Phone</td>\n",
       "      <td>690</td>\n",
       "      <td>1000</td>\n",
       "      <td>medical-fundraiser</td>\n",
       "      <td>12.0</td>\n",
       "      <td>0.0</td>\n",
       "      <td>12.0</td>\n",
       "    </tr>\n",
       "    <tr>\n",
       "      <th>5</th>\n",
       "      <td>Walker Sisters &amp; Family for COVID-19 Response ...</td>\n",
       "      <td>690</td>\n",
       "      <td>500</td>\n",
       "      <td>emergency-fundraiser</td>\n",
       "      <td>8.0</td>\n",
       "      <td>0.0</td>\n",
       "      <td>1.0</td>\n",
       "    </tr>\n",
       "    <tr>\n",
       "      <th>6</th>\n",
       "      <td>Tala and Marah's campaign</td>\n",
       "      <td>680</td>\n",
       "      <td>1000</td>\n",
       "      <td>volunteer-fundraiser</td>\n",
       "      <td>14.0</td>\n",
       "      <td>81.0</td>\n",
       "      <td>14.0</td>\n",
       "    </tr>\n",
       "    <tr>\n",
       "      <th>7</th>\n",
       "      <td>Row, run, walk or cycle for Covid-19 research</td>\n",
       "      <td>680</td>\n",
       "      <td>5000</td>\n",
       "      <td>medical-fundraiser</td>\n",
       "      <td>17.0</td>\n",
       "      <td>11.0</td>\n",
       "      <td>17.0</td>\n",
       "    </tr>\n",
       "    <tr>\n",
       "      <th>8</th>\n",
       "      <td>BC Children's Hospital</td>\n",
       "      <td>680</td>\n",
       "      <td>6000</td>\n",
       "      <td>volunteer-fundraiser</td>\n",
       "      <td>7.0</td>\n",
       "      <td>0.0</td>\n",
       "      <td>7.0</td>\n",
       "    </tr>\n",
       "    <tr>\n",
       "      <th>9</th>\n",
       "      <td>Quarantining Art</td>\n",
       "      <td>676</td>\n",
       "      <td>100</td>\n",
       "      <td>medical-fundraiser</td>\n",
       "      <td>12.0</td>\n",
       "      <td>0.0</td>\n",
       "      <td>12.0</td>\n",
       "    </tr>\n",
       "  </tbody>\n",
       "</table>\n",
       "</div>"
      ],
      "text/plain": [
       "                                               title  raised  target  \\\n",
       "0                        The Front Steps Project YYC     695    1000   \n",
       "1  Torchlight COVID-19 Fund for Joseph Brant Hosp...     695     300   \n",
       "2                              Actions Against Abuse     690    1000   \n",
       "3                             #ClubQUARANTINE Canada     690     500   \n",
       "4                       Wheeling for Kids Help Phone     690    1000   \n",
       "5  Walker Sisters & Family for COVID-19 Response ...     690     500   \n",
       "6                          Tala and Marah's campaign     680    1000   \n",
       "7      Row, run, walk or cycle for Covid-19 research     680    5000   \n",
       "8                             BC Children's Hospital     680    6000   \n",
       "9                                   Quarantining Art     676     100   \n",
       "\n",
       "             m_campaign  donors  shares  followers  \n",
       "0     animal-fundraiser    16.0    21.0       14.0  \n",
       "1    medical-fundraiser    10.0     0.0       10.0  \n",
       "2  volunteer-fundraiser    28.0    70.0       27.0  \n",
       "3  emergency-fundraiser    16.0     0.0       16.0  \n",
       "4    medical-fundraiser    12.0     0.0       12.0  \n",
       "5  emergency-fundraiser     8.0     0.0        1.0  \n",
       "6  volunteer-fundraiser    14.0    81.0       14.0  \n",
       "7    medical-fundraiser    17.0    11.0       17.0  \n",
       "8  volunteer-fundraiser     7.0     0.0        7.0  \n",
       "9    medical-fundraiser    12.0     0.0       12.0  "
      ]
     },
     "execution_count": 6,
     "metadata": {},
     "output_type": "execute_result"
    }
   ],
   "source": [
    "df.head(10)"
   ]
  },
  {
   "cell_type": "code",
   "execution_count": 7,
   "metadata": {},
   "outputs": [
    {
     "data": {
      "text/plain": [
       "<matplotlib.axes._subplots.AxesSubplot at 0x7fbe5cd32ca0>"
      ]
     },
     "execution_count": 7,
     "metadata": {},
     "output_type": "execute_result"
    },
    {
     "data": {
      "image/png": "[encoded data removed]",
      "text/plain": [
       "<Figure size 432x288 with 1 Axes>"
      ]
     },
     "metadata": {
      "needs_background": "light"
     },
     "output_type": "display_data"
    }
   ],
   "source": [
    "df.plot.scatter(x='donors', y='followers')"
   ]
  },
  {
   "cell_type": "markdown",
   "metadata": {},
   "source": [
    "## Amount Raised by Category"
   ]
  },
  {
   "cell_type": "code",
   "execution_count": 8,
   "metadata": {},
   "outputs": [
    {
     "data": {
      "text/html": [
       "<div>\n",
       "<style scoped>\n",
       "    .dataframe tbody tr th:only-of-type {\n",
       "        vertical-align: middle;\n",
       "    }\n",
       "\n",
       "    .dataframe tbody tr th {\n",
       "        vertical-align: top;\n",
       "    }\n",
       "\n",
       "    .dataframe thead th {\n",
       "        text-align: right;\n",
       "    }\n",
       "</style>\n",
       "<table border=\"1\" class=\"dataframe\">\n",
       "  <thead>\n",
       "    <tr style=\"text-align: right;\">\n",
       "      <th></th>\n",
       "      <th>Amount Raised</th>\n",
       "    </tr>\n",
       "    <tr>\n",
       "      <th>Category</th>\n",
       "      <th></th>\n",
       "    </tr>\n",
       "  </thead>\n",
       "  <tbody>\n",
       "    <tr>\n",
       "      <th>competition-fundraiser</th>\n",
       "      <td>1001113846</td>\n",
       "    </tr>\n",
       "    <tr>\n",
       "      <th>newlywed-fundraiser</th>\n",
       "      <td>266540890</td>\n",
       "    </tr>\n",
       "    <tr>\n",
       "      <th>travel-fundraiser</th>\n",
       "      <td>97447367</td>\n",
       "    </tr>\n",
       "    <tr>\n",
       "      <th>medical-fundraiser</th>\n",
       "      <td>18654746</td>\n",
       "    </tr>\n",
       "    <tr>\n",
       "      <th>emergency-fundraiser</th>\n",
       "      <td>11709363</td>\n",
       "    </tr>\n",
       "    <tr>\n",
       "      <th>memorial-fundraiser</th>\n",
       "      <td>11515473</td>\n",
       "    </tr>\n",
       "    <tr>\n",
       "      <th>community-fundraiser</th>\n",
       "      <td>6693148</td>\n",
       "    </tr>\n",
       "    <tr>\n",
       "      <th>family-fundraiser</th>\n",
       "      <td>4938286</td>\n",
       "    </tr>\n",
       "    <tr>\n",
       "      <th>animal-fundraiser</th>\n",
       "      <td>2492360</td>\n",
       "    </tr>\n",
       "    <tr>\n",
       "      <th>education-fundraiser</th>\n",
       "      <td>2472464</td>\n",
       "    </tr>\n",
       "    <tr>\n",
       "      <th>volunteer-fundraiser</th>\n",
       "      <td>2008740</td>\n",
       "    </tr>\n",
       "    <tr>\n",
       "      <th>business-fundraiser</th>\n",
       "      <td>1652920</td>\n",
       "    </tr>\n",
       "    <tr>\n",
       "      <th>creative-fundraiser</th>\n",
       "      <td>1533067</td>\n",
       "    </tr>\n",
       "    <tr>\n",
       "      <th>sports-fundraiser</th>\n",
       "      <td>1157413</td>\n",
       "    </tr>\n",
       "    <tr>\n",
       "      <th>wishes-fundraiser</th>\n",
       "      <td>719918</td>\n",
       "    </tr>\n",
       "    <tr>\n",
       "      <th>faith-fundraiser</th>\n",
       "      <td>690886</td>\n",
       "    </tr>\n",
       "    <tr>\n",
       "      <th>event-fundraiser</th>\n",
       "      <td>431120</td>\n",
       "    </tr>\n",
       "    <tr>\n",
       "      <th>discover</th>\n",
       "      <td>310154</td>\n",
       "    </tr>\n",
       "    <tr>\n",
       "      <th>environment-fundraising</th>\n",
       "      <td>15843</td>\n",
       "    </tr>\n",
       "  </tbody>\n",
       "</table>\n",
       "</div>"
      ],
      "text/plain": [
       "                         Amount Raised\n",
       "Category                              \n",
       "competition-fundraiser      1001113846\n",
       "newlywed-fundraiser          266540890\n",
       "travel-fundraiser             97447367\n",
       "medical-fundraiser            18654746\n",
       "emergency-fundraiser          11709363\n",
       "memorial-fundraiser           11515473\n",
       "community-fundraiser           6693148\n",
       "family-fundraiser              4938286\n",
       "animal-fundraiser              2492360\n",
       "education-fundraiser           2472464\n",
       "volunteer-fundraiser           2008740\n",
       "business-fundraiser            1652920\n",
       "creative-fundraiser            1533067\n",
       "sports-fundraiser              1157413\n",
       "wishes-fundraiser               719918\n",
       "faith-fundraiser                690886\n",
       "event-fundraiser                431120\n",
       "discover                        310154\n",
       "environment-fundraising          15843"
      ]
     },
     "execution_count": 8,
     "metadata": {},
     "output_type": "execute_result"
    }
   ],
   "source": [
    "df_rc = pd.melt(df, id_vars=['m_campaign'], value_vars='raised', value_name='Amount Raised', var_name='Category')\n",
    "df_rc = df_rc.groupby('m_campaign').sum()\n",
    "df_rc.rename_axis('Category', inplace=True)\n",
    "pd.options.display.float_format = '{:,.2f}'.format\n",
    "df_rc = df_rc.sort_values('Amount Raised', ascending=False)\n",
    "df_rc"
   ]
  },
  {
   "cell_type": "code",
   "execution_count": 9,
   "metadata": {},
   "outputs": [
    {
     "data": {
      "text/plain": [
       "<matplotlib.axes._subplots.AxesSubplot at 0x7fbe5ced9670>"
      ]
     },
     "execution_count": 9,
     "metadata": {},
     "output_type": "execute_result"
    },
    {
     "data": {
      "image/png": "[encoded data removed]",
      "text/plain": [
       "<Figure size 432x288 with 1 Axes>"
      ]
     },
     "metadata": {
      "needs_background": "light"
     },
     "output_type": "display_data"
    }
   ],
   "source": [
    "df_rc.plot(kind='bar')"
   ]
  },
  {
   "cell_type": "markdown",
   "metadata": {},
   "source": [
    "## Number of Campaigns per Category"
   ]
  },
  {
   "cell_type": "code",
   "execution_count": 10,
   "metadata": {},
   "outputs": [
    {
     "data": {
      "text/html": [
       "<div>\n",
       "<style scoped>\n",
       "    .dataframe tbody tr th:only-of-type {\n",
       "        vertical-align: middle;\n",
       "    }\n",
       "\n",
       "    .dataframe tbody tr th {\n",
       "        vertical-align: top;\n",
       "    }\n",
       "\n",
       "    .dataframe thead th {\n",
       "        text-align: right;\n",
       "    }\n",
       "</style>\n",
       "<table border=\"1\" class=\"dataframe\">\n",
       "  <thead>\n",
       "    <tr style=\"text-align: right;\">\n",
       "      <th></th>\n",
       "      <th>Number of Campaigns</th>\n",
       "    </tr>\n",
       "    <tr>\n",
       "      <th>Category</th>\n",
       "      <th></th>\n",
       "    </tr>\n",
       "  </thead>\n",
       "  <tbody>\n",
       "    <tr>\n",
       "      <th>environment-fundraising</th>\n",
       "      <td>9</td>\n",
       "    </tr>\n",
       "    <tr>\n",
       "      <th>newlywed-fundraiser</th>\n",
       "      <td>191</td>\n",
       "    </tr>\n",
       "    <tr>\n",
       "      <th>competition-fundraiser</th>\n",
       "      <td>338</td>\n",
       "    </tr>\n",
       "    <tr>\n",
       "      <th>wishes-fundraiser</th>\n",
       "      <td>341</td>\n",
       "    </tr>\n",
       "    <tr>\n",
       "      <th>travel-fundraiser</th>\n",
       "      <td>369</td>\n",
       "    </tr>\n",
       "    <tr>\n",
       "      <th>business-fundraiser</th>\n",
       "      <td>377</td>\n",
       "    </tr>\n",
       "    <tr>\n",
       "      <th>event-fundraiser</th>\n",
       "      <td>378</td>\n",
       "    </tr>\n",
       "    <tr>\n",
       "      <th>sports-fundraiser</th>\n",
       "      <td>382</td>\n",
       "    </tr>\n",
       "    <tr>\n",
       "      <th>memorial-fundraiser</th>\n",
       "      <td>408</td>\n",
       "    </tr>\n",
       "    <tr>\n",
       "      <th>animal-fundraiser</th>\n",
       "      <td>410</td>\n",
       "    </tr>\n",
       "    <tr>\n",
       "      <th>creative-fundraiser</th>\n",
       "      <td>427</td>\n",
       "    </tr>\n",
       "    <tr>\n",
       "      <th>education-fundraiser</th>\n",
       "      <td>432</td>\n",
       "    </tr>\n",
       "    <tr>\n",
       "      <th>faith-fundraiser</th>\n",
       "      <td>434</td>\n",
       "    </tr>\n",
       "    <tr>\n",
       "      <th>family-fundraiser</th>\n",
       "      <td>437</td>\n",
       "    </tr>\n",
       "    <tr>\n",
       "      <th>emergency-fundraiser</th>\n",
       "      <td>450</td>\n",
       "    </tr>\n",
       "    <tr>\n",
       "      <th>volunteer-fundraiser</th>\n",
       "      <td>458</td>\n",
       "    </tr>\n",
       "    <tr>\n",
       "      <th>community-fundraiser</th>\n",
       "      <td>574</td>\n",
       "    </tr>\n",
       "    <tr>\n",
       "      <th>medical-fundraiser</th>\n",
       "      <td>584</td>\n",
       "    </tr>\n",
       "  </tbody>\n",
       "</table>\n",
       "</div>"
      ],
      "text/plain": [
       "                         Number of Campaigns\n",
       "Category                                    \n",
       "environment-fundraising                    9\n",
       "newlywed-fundraiser                      191\n",
       "competition-fundraiser                   338\n",
       "wishes-fundraiser                        341\n",
       "travel-fundraiser                        369\n",
       "business-fundraiser                      377\n",
       "event-fundraiser                         378\n",
       "sports-fundraiser                        382\n",
       "memorial-fundraiser                      408\n",
       "animal-fundraiser                        410\n",
       "creative-fundraiser                      427\n",
       "education-fundraiser                     432\n",
       "faith-fundraiser                         434\n",
       "family-fundraiser                        437\n",
       "emergency-fundraiser                     450\n",
       "volunteer-fundraiser                     458\n",
       "community-fundraiser                     574\n",
       "medical-fundraiser                       584"
      ]
     },
     "execution_count": 10,
     "metadata": {},
     "output_type": "execute_result"
    }
   ],
   "source": [
    "df_cat = df[['m_campaign', 'title']]\n",
    "df_cat = df_cat.groupby('m_campaign').count()\n",
    "df_cat.drop(index='discover', inplace=True)\n",
    "df_cat.rename_axis('Category', inplace=True)\n",
    "df_cat = df_cat.rename(columns={'title': 'Number of Campaigns'})\n",
    "df_cat = df_cat.sort_values(by='Number of Campaigns', ascending=True)\n",
    "df_cat"
   ]
  },
  {
   "cell_type": "code",
   "execution_count": 16,
   "metadata": {},
   "outputs": [
    {
     "data": {
      "text/plain": [
       "Index(['Number of Campaigns'], dtype='object')"
      ]
     },
     "execution_count": 16,
     "metadata": {},
     "output_type": "execute_result"
    }
   ],
   "source": [
    "df_cat.columns"
   ]
  },
  {
   "cell_type": "code",
   "execution_count": 11,
   "metadata": {},
   "outputs": [
    {
     "data": {
      "text/plain": [
       "<matplotlib.axes._subplots.AxesSubplot at 0x7fbe5ce522e0>"
      ]
     },
     "execution_count": 11,
     "metadata": {},
     "output_type": "execute_result"
    },
    {
     "data": {
      "image/png": "[encoded data removed]",
      "text/plain": [
       "<Figure size 432x288 with 1 Axes>"
      ]
     },
     "metadata": {
      "needs_background": "light"
     },
     "output_type": "display_data"
    }
   ],
   "source": [
    "df_cat.plot.bar()"
   ]
  },
  {
   "cell_type": "markdown",
   "metadata": {},
   "source": [
    "## Visualize Amount Raised vs Number of Donors"
   ]
  },
  {
   "cell_type": "code",
   "execution_count": 12,
   "metadata": {},
   "outputs": [
    {
     "data": {
      "text/html": [
       "<div>\n",
       "<style scoped>\n",
       "    .dataframe tbody tr th:only-of-type {\n",
       "        vertical-align: middle;\n",
       "    }\n",
       "\n",
       "    .dataframe tbody tr th {\n",
       "        vertical-align: top;\n",
       "    }\n",
       "\n",
       "    .dataframe thead th {\n",
       "        text-align: right;\n",
       "    }\n",
       "</style>\n",
       "<table border=\"1\" class=\"dataframe\">\n",
       "  <thead>\n",
       "    <tr style=\"text-align: right;\">\n",
       "      <th></th>\n",
       "      <th>m_campaign</th>\n",
       "      <th>donors</th>\n",
       "      <th>raised</th>\n",
       "    </tr>\n",
       "  </thead>\n",
       "  <tbody>\n",
       "    <tr>\n",
       "      <th>0</th>\n",
       "      <td>animal-fundraiser</td>\n",
       "      <td>16.00</td>\n",
       "      <td>695</td>\n",
       "    </tr>\n",
       "    <tr>\n",
       "      <th>1</th>\n",
       "      <td>medical-fundraiser</td>\n",
       "      <td>10.00</td>\n",
       "      <td>695</td>\n",
       "    </tr>\n",
       "    <tr>\n",
       "      <th>2</th>\n",
       "      <td>volunteer-fundraiser</td>\n",
       "      <td>28.00</td>\n",
       "      <td>690</td>\n",
       "    </tr>\n",
       "    <tr>\n",
       "      <th>3</th>\n",
       "      <td>emergency-fundraiser</td>\n",
       "      <td>16.00</td>\n",
       "      <td>690</td>\n",
       "    </tr>\n",
       "    <tr>\n",
       "      <th>4</th>\n",
       "      <td>medical-fundraiser</td>\n",
       "      <td>12.00</td>\n",
       "      <td>690</td>\n",
       "    </tr>\n",
       "    <tr>\n",
       "      <th>...</th>\n",
       "      <td>...</td>\n",
       "      <td>...</td>\n",
       "      <td>...</td>\n",
       "    </tr>\n",
       "    <tr>\n",
       "      <th>7072</th>\n",
       "      <td>memorial-fundraiser</td>\n",
       "      <td>234.00</td>\n",
       "      <td>26010</td>\n",
       "    </tr>\n",
       "    <tr>\n",
       "      <th>7073</th>\n",
       "      <td>memorial-fundraiser</td>\n",
       "      <td>145.00</td>\n",
       "      <td>25951</td>\n",
       "    </tr>\n",
       "    <tr>\n",
       "      <th>7074</th>\n",
       "      <td>memorial-fundraiser</td>\n",
       "      <td>298.00</td>\n",
       "      <td>25815</td>\n",
       "    </tr>\n",
       "    <tr>\n",
       "      <th>7075</th>\n",
       "      <td>memorial-fundraiser</td>\n",
       "      <td>369.00</td>\n",
       "      <td>25610</td>\n",
       "    </tr>\n",
       "    <tr>\n",
       "      <th>7076</th>\n",
       "      <td>memorial-fundraiser</td>\n",
       "      <td>140.00</td>\n",
       "      <td>25600</td>\n",
       "    </tr>\n",
       "  </tbody>\n",
       "</table>\n",
       "<p>7077 rows × 3 columns</p>\n",
       "</div>"
      ],
      "text/plain": [
       "                m_campaign  donors  raised\n",
       "0        animal-fundraiser   16.00     695\n",
       "1       medical-fundraiser   10.00     695\n",
       "2     volunteer-fundraiser   28.00     690\n",
       "3     emergency-fundraiser   16.00     690\n",
       "4       medical-fundraiser   12.00     690\n",
       "...                    ...     ...     ...\n",
       "7072   memorial-fundraiser  234.00   26010\n",
       "7073   memorial-fundraiser  145.00   25951\n",
       "7074   memorial-fundraiser  298.00   25815\n",
       "7075   memorial-fundraiser  369.00   25610\n",
       "7076   memorial-fundraiser  140.00   25600\n",
       "\n",
       "[7077 rows x 3 columns]"
      ]
     },
     "execution_count": 12,
     "metadata": {},
     "output_type": "execute_result"
    }
   ],
   "source": [
    "df_rv = pd.DataFrame(df[['m_campaign', 'donors', 'raised']])\n",
    "df_rv"
   ]
  },
  {
   "cell_type": "markdown",
   "metadata": {},
   "source": [
    "## Model Linear Regression"
   ]
  },
  {
   "cell_type": "code",
   "execution_count": 33,
   "metadata": {},
   "outputs": [],
   "source": [
    "from scipy.stats import linregress"
   ]
  },
  {
   "cell_type": "code",
   "execution_count": 53,
   "metadata": {},
   "outputs": [
    {
     "data": {
      "text/plain": [
       "Index(['title', 'raised', 'target', 'm_campaign', 'donors', 'shares',\n",
       "       'followers'],\n",
       "      dtype='object')"
      ]
     },
     "execution_count": 53,
     "metadata": {},
     "output_type": "execute_result"
    }
   ],
   "source": [
    "df.columns"
   ]
  },
  {
   "cell_type": "code",
   "execution_count": 56,
   "metadata": {},
   "outputs": [
    {
     "data": {
      "text/html": [
       "<div>\n",
       "<style scoped>\n",
       "    .dataframe tbody tr th:only-of-type {\n",
       "        vertical-align: middle;\n",
       "    }\n",
       "\n",
       "    .dataframe tbody tr th {\n",
       "        vertical-align: top;\n",
       "    }\n",
       "\n",
       "    .dataframe thead th {\n",
       "        text-align: right;\n",
       "    }\n",
       "</style>\n",
       "<table border=\"1\" class=\"dataframe\">\n",
       "  <thead>\n",
       "    <tr style=\"text-align: right;\">\n",
       "      <th></th>\n",
       "      <th>donors</th>\n",
       "      <th>raised</th>\n",
       "    </tr>\n",
       "    <tr>\n",
       "      <th>m_campaign</th>\n",
       "      <th></th>\n",
       "      <th></th>\n",
       "    </tr>\n",
       "  </thead>\n",
       "  <tbody>\n",
       "    <tr>\n",
       "      <th>animal-fundraiser</th>\n",
       "      <td>80.82</td>\n",
       "      <td>6,078.93</td>\n",
       "    </tr>\n",
       "    <tr>\n",
       "      <th>business-fundraiser</th>\n",
       "      <td>52.92</td>\n",
       "      <td>4,384.40</td>\n",
       "    </tr>\n",
       "    <tr>\n",
       "      <th>community-fundraiser</th>\n",
       "      <td>84.28</td>\n",
       "      <td>11,660.54</td>\n",
       "    </tr>\n",
       "    <tr>\n",
       "      <th>competition-fundraiser</th>\n",
       "      <td>63.36</td>\n",
       "      <td>2,961,875.28</td>\n",
       "    </tr>\n",
       "    <tr>\n",
       "      <th>creative-fundraiser</th>\n",
       "      <td>31.04</td>\n",
       "      <td>3,590.32</td>\n",
       "    </tr>\n",
       "    <tr>\n",
       "      <th>discover</th>\n",
       "      <td>49.08</td>\n",
       "      <td>3,976.33</td>\n",
       "    </tr>\n",
       "    <tr>\n",
       "      <th>education-fundraiser</th>\n",
       "      <td>51.66</td>\n",
       "      <td>5,723.30</td>\n",
       "    </tr>\n",
       "    <tr>\n",
       "      <th>emergency-fundraiser</th>\n",
       "      <td>190.52</td>\n",
       "      <td>26,020.81</td>\n",
       "    </tr>\n",
       "    <tr>\n",
       "      <th>environment-fundraising</th>\n",
       "      <td>20.29</td>\n",
       "      <td>1,760.33</td>\n",
       "    </tr>\n",
       "    <tr>\n",
       "      <th>event-fundraiser</th>\n",
       "      <td>18.05</td>\n",
       "      <td>1,140.53</td>\n",
       "    </tr>\n",
       "    <tr>\n",
       "      <th>faith-fundraiser</th>\n",
       "      <td>19.70</td>\n",
       "      <td>1,591.90</td>\n",
       "    </tr>\n",
       "    <tr>\n",
       "      <th>family-fundraiser</th>\n",
       "      <td>102.96</td>\n",
       "      <td>11,300.43</td>\n",
       "    </tr>\n",
       "    <tr>\n",
       "      <th>medical-fundraiser</th>\n",
       "      <td>201.33</td>\n",
       "      <td>31,943.06</td>\n",
       "    </tr>\n",
       "    <tr>\n",
       "      <th>memorial-fundraiser</th>\n",
       "      <td>218.95</td>\n",
       "      <td>28,224.20</td>\n",
       "    </tr>\n",
       "    <tr>\n",
       "      <th>newlywed-fundraiser</th>\n",
       "      <td>17.96</td>\n",
       "      <td>1,395,502.04</td>\n",
       "    </tr>\n",
       "    <tr>\n",
       "      <th>sports-fundraiser</th>\n",
       "      <td>33.72</td>\n",
       "      <td>3,029.88</td>\n",
       "    </tr>\n",
       "    <tr>\n",
       "      <th>travel-fundraiser</th>\n",
       "      <td>64.64</td>\n",
       "      <td>264,085.01</td>\n",
       "    </tr>\n",
       "    <tr>\n",
       "      <th>volunteer-fundraiser</th>\n",
       "      <td>38.23</td>\n",
       "      <td>4,385.90</td>\n",
       "    </tr>\n",
       "    <tr>\n",
       "      <th>wishes-fundraiser</th>\n",
       "      <td>15.98</td>\n",
       "      <td>2,111.20</td>\n",
       "    </tr>\n",
       "  </tbody>\n",
       "</table>\n",
       "</div>"
      ],
      "text/plain": [
       "                         donors       raised\n",
       "m_campaign                                  \n",
       "animal-fundraiser         80.82     6,078.93\n",
       "business-fundraiser       52.92     4,384.40\n",
       "community-fundraiser      84.28    11,660.54\n",
       "competition-fundraiser    63.36 2,961,875.28\n",
       "creative-fundraiser       31.04     3,590.32\n",
       "discover                  49.08     3,976.33\n",
       "education-fundraiser      51.66     5,723.30\n",
       "emergency-fundraiser     190.52    26,020.81\n",
       "environment-fundraising   20.29     1,760.33\n",
       "event-fundraiser          18.05     1,140.53\n",
       "faith-fundraiser          19.70     1,591.90\n",
       "family-fundraiser        102.96    11,300.43\n",
       "medical-fundraiser       201.33    31,943.06\n",
       "memorial-fundraiser      218.95    28,224.20\n",
       "newlywed-fundraiser       17.96 1,395,502.04\n",
       "sports-fundraiser         33.72     3,029.88\n",
       "travel-fundraiser         64.64   264,085.01\n",
       "volunteer-fundraiser      38.23     4,385.90\n",
       "wishes-fundraiser         15.98     2,111.20"
      ]
     },
     "execution_count": 56,
     "metadata": {},
     "output_type": "execute_result"
    }
   ],
   "source": [
    "df[['m_campaign', 'donors', 'raised']].groupby(['m_campaign']).mean()"
   ]
  },
  {
   "cell_type": "code",
   "execution_count": 58,
   "metadata": {},
   "outputs": [],
   "source": [
    "var = df_rv['raised'] < 3000"
   ]
  },
  {
   "cell_type": "code",
   "execution_count": 38,
   "metadata": {},
   "outputs": [
    {
     "data": {
      "image/png": "[encoded data removed]",
      "text/plain": [
       "<Figure size 432x288 with 1 Axes>"
      ]
     },
     "metadata": {
      "needs_background": "light"
     },
     "output_type": "display_data"
    }
   ],
   "source": [
    "# Set vars\n",
    "x = df_rv.donors\n",
    "y = df_rv.raised\n",
    "\n",
    "# Formula\n",
    "stats = linregress(x, y)\n",
    "m = stats.slope\n",
    "b = stats.intercept\n",
    "\n",
    "plt.scatter(x, y)\n",
    "plt.plot(x, m*x+b, color='red', linewidth=5)\n",
    "plt.show()\n"
   ]
  }
 ],
 "metadata": {
  "kernelspec": {
   "display_name": "Python 3",
   "language": "python",
   "name": "python3"
  },
  "language_info": {
   "codemirror_mode": {
    "name": "ipython",
    "version": 3
   },
   "file_extension": ".py",
   "mimetype": "text/x-python",
   "name": "python",
   "nbconvert_exporter": "python",
   "pygments_lexer": "ipython3",
   "version": "3.8.3"
  }
 },
 "nbformat": 4,
 "nbformat_minor": 4
}
