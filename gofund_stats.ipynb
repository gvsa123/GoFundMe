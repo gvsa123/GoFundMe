{
 "cells": [
  {
   "cell_type": "markdown",
   "metadata": {},
   "source": [
    "# GoFundMe data preparation and EDA\n",
    "\n",
    "The following set of commands is an outline of the data preparation for the GoFundMe dataset. The imported `csv` file is the raw data that was mined from the GoFundMe website, where the only processing conducted was the tokenization of the campaign description under the `story_tokens` column."
   ]
  },
  {
   "cell_type": "code",
   "execution_count": null,
   "metadata": {},
   "outputs": [],
   "source": [
    "import pandas as pd\n",
    "import matplotlib.pyplot as plt"
   ]
  },
  {
   "cell_type": "code",
   "execution_count": null,
   "metadata": {},
   "outputs": [],
   "source": [
    "df = pd.read_csv('gofund_data.csv')"
   ]
  },
  {
   "cell_type": "markdown",
   "metadata": {},
   "source": [
    "## Processing raised and target fields\n",
    "\n",
    "In order to perform any kind of calculation, the raw string that was scraped needs to undergo some preparation. In this case, the currency symbols that came with the dollar amounts for `raised` and `target` columns need to be\n",
    "removed, before they can be converted into the appropriate data type.\n",
    "\n",
    "`df[['raised', 'target']].head()`\n",
    "```\n",
    "raised\ttarget\n",
    "0\t$695\t$1,000\n",
    "1\t$695\t$300\n",
    "2\t$690\t$1,000\n",
    "3\t$690\t$500\n",
    "4\t$690\t$1,000\n",
    "```"
   ]
  },
  {
   "cell_type": "code",
   "execution_count": null,
   "metadata": {},
   "outputs": [],
   "source": [
    "## Remove currency symbols and replace with ''\n",
    "df['raised'] = df['raised'].str.replace('€', '')\n",
    "df['target'] = df['target'].str.replace('€', '')\n",
    "df['raised'] = df['raised'].str.replace('$', '')\n",
    "df['target'] = df['target'].str.replace('$', '')\n",
    "df['raised'] = df['raised'].str.replace(',', '')\n",
    "df['target'] = df['target'].str.replace(',', '')"
   ]
  },
  {
   "cell_type": "markdown",
   "metadata": {},
   "source": [
    "```\n",
    "\traised\ttarget\n",
    "0\t695\t1000\n",
    "1\t695\t300\n",
    "2\t690\t1000\n",
    "3\t690\t500\n",
    "4\t690\t1000\n",
    "```\n",
    "\n",
    "The next step is to convert the `dtype` from `object` into `int`. Here is output before being converted. Notice the difference in `dtype`.\n",
    "\n",
    "\n",
    "```\n",
    "Unnamed: 0        int64\n",
    "url_index        object\n",
    "title            object\n",
    "raised           object\n",
    "target           object\n",
    "m_campaign       object\n",
    "created_date     object\n",
    "donors          float64\n",
    "shares          float64\n",
    "followers       float64\n",
    "scrape_date      object\n",
    "c_story          object\n",
    "story_tokens     object\n",
    "dtype: object\n",
    "```"
   ]
  },
  {
   "cell_type": "code",
   "execution_count": null,
   "metadata": {},
   "outputs": [],
   "source": [
    "# Convert dtypes\n",
    "df['raised'] = df['raised'].astype(int)\n",
    "df['target'] = df['target'].astype(int)\n",
    "df['scrape_date'] = pd.to_datetime(df['scrape_date'])"
   ]
  },
  {
   "cell_type": "markdown",
   "metadata": {},
   "source": [
    "Now, both `raised` and `target` have `int64` as `df.dtypes`\n",
    "```\n",
    "Unnamed: 0               int64\n",
    "url_index               object\n",
    "title                   object\n",
    "raised                   int64\n",
    "target                   int64\n",
    "m_campaign              object\n",
    "created_date            object\n",
    "donors                 float64\n",
    "shares                 float64\n",
    "followers              float64\n",
    "scrape_date     datetime64[ns]\n",
    "c_story                 object\n",
    "story_tokens            object\n",
    "dtype: object\n",
    "```"
   ]
  },
  {
   "cell_type": "markdown",
   "metadata": {},
   "source": [
    "## Clean created_date field\n",
    "\n",
    "The `created_date` field needs some processing prior to being converted into `datetime` objects as well. Notice how it is encoded as `dtype(object)`, compared to the `scrape_date` field. This is because new campaigns relative to the `scrape_date` were labelled as being `\"Created {x} days ago\"` on the GoFundMe website, whereas the `scrape_date` was directly coded as a `datetime` object during the scrape.\n",
    "\n",
    "```\n",
    "6030            2020-08-14\n",
    "5631            2020-08-14\n",
    "2964    Created 2 days ago\n",
    "4106    Created 2 days ago\n",
    "3011    Created 2 days ago\n",
    "4337    Created 3 days ago\n",
    "6907    Created 3 days ago\n",
    "4058    Created 3 days ago\n",
    "4155    Created 3 days ago\n",
    "4076    Created 4 days ago\n",
    "6862    Created 4 days ago\n",
    "6864    Created 4 days ago\n",
    "6989    Created 4 days ago\n",
    "3967    Created 6 days ago\n",
    "3946    Created 7 days ago\n",
    "3945    Created 7 days ago\n",
    "4100    Created 7 days ago\n",
    "4185    Created 7 days ago\n",
    "4216    Created 7 days ago\n",
    "4335    Created 7 days ago\n",
    "Name: created_date, dtype: object\n",
    "```"
   ]
  },
  {
   "cell_type": "code",
   "execution_count": null,
   "metadata": {},
   "outputs": [],
   "source": [
    "# Regex pattern to find the beginning of a string that is a non-digit\n",
    "pattern = r'(^[\\D])'\n",
    "\n",
    "# Placeholder for lists to be used later.\n",
    "days_ago = []\n",
    "days_index = []\n",
    "days_int = []\n",
    "\n",
    "df_tmp = df['created_date'].str.match(pattern)"
   ]
  },
  {
   "cell_type": "markdown",
   "metadata": {},
   "source": [
    "A temporary `Series` is created to identify rows where the regex match returns `True`.\n",
    "\n",
    "```\n",
    "0       False\n",
    "1       False\n",
    "2       False\n",
    "3       False\n",
    "4       False\n",
    "        ...  \n",
    "7072    False\n",
    "7073    False\n",
    "7074    False\n",
    "7075    False\n",
    "7076    False\n",
    "Name: created_date, Length: 7077, dtype: bool\n",
    "```"
   ]
  },
  {
   "cell_type": "code",
   "execution_count": null,
   "metadata": {},
   "outputs": [],
   "source": [
    "def update_created_date():\n",
    "    \"\"\"Cleaning of 'Created x days ago' \"\"\"\n",
    "    \n",
    "    for index, value in df_tmp.items():\n",
    "        if value == True:\n",
    "            days_index.append(index) # Append indices for rows that returned True\n",
    "\n",
    "    for i in days_index:\n",
    "        # Split \"Created...\" string in order to grab just the number of days        \n",
    "        split_date = df['created_date'].loc[i].split(\" \")\n",
    "        days_int.append(int(split_date[1])) # Append just the number of days to list\n",
    "\n",
    "update_created_date()"
   ]
  },
  {
   "cell_type": "markdown",
   "metadata": {},
   "source": [
    "Now, the numbers from `\"Created {x} days ago\"` have been extracted and added to a list which can be used to calculate the actual date the campaign was created.\n",
    "\n",
    "```\n",
    "Extracted number list: \n",
    "[2, 2, 7, 7, 6, 3, 4, 7, 2, 3, 7, 7, 7, 3, 4, 4, 3, 4] \n",
    "\n",
    "List of indices associated with the row: \n",
    "[2964, 3011, 3945, 3946, 3967, 4058, 4076, 4100, 4106, 4155, 4185, 4216, 4335, 4337, 6862, 6864, 6907, 6989]\n",
    "```"
   ]
  },
  {
   "cell_type": "markdown",
   "metadata": {},
   "source": [
    "### SettingWithCopyWarning\n",
    "The following line of code sets the `SettingWithCopyWarning` to `None` to silence the warning message pertaining to the issue of *chained assignments*."
   ]
  },
  {
   "cell_type": "code",
   "execution_count": null,
   "metadata": {},
   "outputs": [],
   "source": [
    "# Fix (silence) SettingWithCopyWarning!\n",
    "pd.set_option('mode.chained_assignment', None)"
   ]
  },
  {
   "cell_type": "markdown",
   "metadata": {},
   "source": [
    "The next block of code is a work around for the above mentioned issue with the `SettingWithCopyWarning`. Using the proper syntax according to [this](https://www.dataquest.io/blog/settingwithcopywarning/) causes some other unintended issue with whole lists being assigned to rows. So while it is advised not to silence such *false positives*, in order to move forward with this project, a decision had to be made for a workable solution, while in search for a *purist* solution."
   ]
  },
  {
   "cell_type": "code",
   "execution_count": null,
   "metadata": {},
   "outputs": [],
   "source": [
    "x = 0\n",
    "for i in days_index:\n",
    "    df['created_date'].loc[i] = str(days_int[x])\n",
    "    x += 1"
   ]
  },
  {
   "cell_type": "markdown",
   "metadata": {},
   "source": [
    "Now, the actual number has been extracted from the *\"Created...ago\"* string.\n",
    "\n",
    "```\n",
    "447              2020-08-13\n",
    "2221             2020-08-13\n",
    "1143             2020-08-13\n",
    "3847             2020-08-13\n",
    "441              2020-08-13\n",
    "2563             2020-08-13\n",
    "2706             2020-08-13\n",
    "7060    2020-08-13 00:00:00\n",
    "6963    2020-08-13 00:00:00\n",
    "4251    2020-08-13 00:00:00\n",
    "3935    2020-08-13 00:00:00\n",
    "7034    2020-08-13 00:00:00\n",
    "6030             2020-08-14\n",
    "5631             2020-08-14\n",
    "6031             2020-08-14\n",
    "4337                      3\n",
    "4155                      3\n",
    "6907                      3\n",
    "4058                      3\n",
    "6862                      4\n",
    "4076                      4\n",
    "6864                      4\n",
    "6989                      4\n",
    "3967                      6\n",
    "4185                      7\n",
    "4216                      7\n",
    "4100                      7\n",
    "4335                      7\n",
    "3946                      7\n",
    "3945                      7\n",
    "Name: created_date, dtype: object\n",
    "```"
   ]
  },
  {
   "cell_type": "markdown",
   "metadata": {},
   "source": [
    "### Convert date fields into proper datetime objects"
   ]
  },
  {
   "cell_type": "code",
   "execution_count": null,
   "metadata": {},
   "outputs": [],
   "source": [
    "from datetime import timedelta"
   ]
  },
  {
   "cell_type": "markdown",
   "metadata": {},
   "source": [
    "With the `created_date` field properly formatted, we can now calculate the actual date the campaign was launched on the website, and assign that to the specific element."
   ]
  },
  {
   "cell_type": "code",
   "execution_count": null,
   "metadata": {},
   "outputs": [],
   "source": [
    "# subtract days_ago from scrape_date\n",
    "date_list = []\n",
    "for i in days_index:\n",
    "    df['created_date'].loc[i] = df['scrape_date'][i] - timedelta(days=int(df['created_date'][i]))"
   ]
  },
  {
   "cell_type": "code",
   "execution_count": null,
   "metadata": {},
   "outputs": [],
   "source": [
    "df['created_date'] = pd.to_datetime(df['created_date'])"
   ]
  },
  {
   "cell_type": "markdown",
   "metadata": {},
   "source": [
    "We now have a properly formatted date column where EDA can be applied!\n",
    "\n",
    "```\n",
    "7060   2020-08-13\n",
    "3675   2020-08-13\n",
    "441    2020-08-13\n",
    "3935   2020-08-13\n",
    "2221   2020-08-13\n",
    "7034   2020-08-13\n",
    "6963   2020-08-13\n",
    "447    2020-08-13\n",
    "3847   2020-08-13\n",
    "6031   2020-08-14\n",
    "6030   2020-08-14\n",
    "5631   2020-08-14\n",
    "4216   2020-08-14\n",
    "3946   2020-08-14\n",
    "4185   2020-08-14\n",
    "3945   2020-08-14\n",
    "4100   2020-08-14\n",
    "4335   2020-08-14\n",
    "3967   2020-08-15\n",
    "6989   2020-08-17\n",
    "6862   2020-08-17\n",
    "6864   2020-08-17\n",
    "4076   2020-08-17\n",
    "4337   2020-08-18\n",
    "4155   2020-08-18\n",
    "4058   2020-08-18\n",
    "6907   2020-08-18\n",
    "2964   2020-08-19\n",
    "4106   2020-08-19\n",
    "3011   2020-08-19\n",
    "Name: created_date, dtype: datetime64[ns]\n",
    "\n",
    "Unnamed: 0               int64\n",
    "url_index               object\n",
    "title                   object\n",
    "raised                   int64\n",
    "target                   int64\n",
    "m_campaign              object\n",
    "created_date    datetime64[ns]\n",
    "donors                 float64\n",
    "shares                 float64\n",
    "followers              float64\n",
    "scrape_date     datetime64[ns]\n",
    "c_story                 object\n",
    "story_tokens            object\n",
    "dtype: object\n",
    "```"
   ]
  },
  {
   "cell_type": "code",
   "execution_count": null,
   "metadata": {},
   "outputs": [],
   "source": [
    "df.head(10)"
   ]
  },
  {
   "cell_type": "markdown",
   "metadata": {},
   "source": [
    "## Descriptive Statistics for the GoFundMe dataset\n",
    "\n",
    "Now that all the variable have been properly formatted, we can perform some exploratory data analysis on the dataset!\n",
    "\n",
    "Interestingly enough, we can actually say that almost all followers were actually donating to their chosen campaign!"
   ]
  },
  {
   "cell_type": "code",
   "execution_count": null,
   "metadata": {},
   "outputs": [],
   "source": [
    "df.plot.scatter(x='donors', y='followers')"
   ]
  },
  {
   "cell_type": "markdown",
   "metadata": {},
   "source": [
    "### Amount Raised by Category\n",
    "\n",
    "Combining all the total amount raised for each category, we then sort them according to the category with the highest dollar amount raised so far..."
   ]
  },
  {
   "cell_type": "code",
   "execution_count": null,
   "metadata": {},
   "outputs": [],
   "source": [
    "df_rc = pd.melt(df, id_vars=['m_campaign'], value_vars='raised', value_name='Amount Raised', var_name='Category')\n",
    "df_rc = df_rc.groupby('m_campaign').sum()\n",
    "df_rc.rename_axis('Category', inplace=True)\n",
    "pd.options.display.float_format = '{:,.2f}'.format\n",
    "df_rc = df_rc.sort_values('Amount Raised', ascending=False)\n",
    "df_rc"
   ]
  },
  {
   "cell_type": "markdown",
   "metadata": {},
   "source": [
    "And we can see how skewed the data is by the top 5 campaign categories."
   ]
  },
  {
   "cell_type": "code",
   "execution_count": null,
   "metadata": {},
   "outputs": [],
   "source": [
    "df_rc.plot(kind='bar')"
   ]
  },
  {
   "cell_type": "markdown",
   "metadata": {},
   "source": [
    "### Number of Campaigns per Category"
   ]
  },
  {
   "cell_type": "code",
   "execution_count": null,
   "metadata": {},
   "outputs": [],
   "source": [
    "df_cat = df[['m_campaign', 'title']]\n",
    "df_cat = df_cat.groupby('m_campaign').count()\n",
    "df_cat.drop(index='discover', inplace=True)\n",
    "df_cat.rename_axis('Category', inplace=True)\n",
    "df_cat = df_cat.rename(columns={'title': 'Number of Campaigns'})\n",
    "df_cat = df_cat.sort_values(by='Number of Campaigns', ascending=False)\n",
    "df_cat"
   ]
  },
  {
   "cell_type": "markdown",
   "metadata": {},
   "source": [
    "Remember our top 5 campaign category in terms of dollar amount raised...\n",
    "```\n",
    "competition-fundraiser\t1001113846\n",
    "newlywed-fundraiser\t266540890\n",
    "travel-fundraiser\t97447367\n",
    "medical-fundraiser\t18654746\n",
    "emergency-fundraiser\t11709363\n",
    "```\n",
    "As it turned out, we have a slightly different picture when the data it pitted against the number of campaigns *within* each category...\n",
    "\n",
    "```\n",
    "medical-fundraiser\t584\n",
    "community-fundraiser\t574\n",
    "volunteer-fundraiser\t458\n",
    "emergency-fundraiser\t450\n",
    "family-fundraiser\t437\n",
    "```\n",
    "\n",
    "Objectively, people who donate to competitive causes are able to raise higher dollar amounts judging by the ratio of total amount raised versus total number of campaigns in each category."
   ]
  },
  {
   "cell_type": "code",
   "execution_count": null,
   "metadata": {},
   "outputs": [],
   "source": [
    "df_cat.plot.bar()"
   ]
  },
  {
   "cell_type": "markdown",
   "metadata": {},
   "source": [
    "### Visualize Amount Raised vs Number of Donors"
   ]
  },
  {
   "cell_type": "code",
   "execution_count": null,
   "metadata": {},
   "outputs": [],
   "source": [
    "df_rv = pd.DataFrame(df[['m_campaign', 'donors', 'raised']])\n",
    "df_rv"
   ]
  }
 ],
 "metadata": {
  "kernelspec": {
   "display_name": "Python 3",
   "language": "python",
   "name": "python3"
  },
  "language_info": {
   "codemirror_mode": {
    "name": "ipython",
    "version": 3
   },
   "file_extension": ".py",
   "mimetype": "text/x-python",
   "name": "python",
   "nbconvert_exporter": "python",
   "pygments_lexer": "ipython3",
   "version": "3.8.3"
  }
 },
 "nbformat": 4,
 "nbformat_minor": 4
}
