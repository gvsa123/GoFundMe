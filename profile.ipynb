{
 "cells": [
  {
   "cell_type": "markdown",
   "metadata": {},
   "source": [
    "# The GoFundMe Dataset\n",
    "\n",
    "The GoFundMe dataset is part of the training data for the [CommonFrame](https://ra2.io/products) project. It is a collection of the individual fund raising campaigns available through the [GoFundMe](https://ca.gofundme.com/) website. The dataset was designed to inform machine learning technologies about effective communications and campaign strategies to maximize stakeholder objectives.\n",
    "\n",
    "## Data Collection\n",
    "\n",
    "The GoFundMe dataset was collected using Python web technologies and is stored in *csv* format. Each campaign category from the GoFundMe website was loaded until all active campaigns were cached. The resulting urls were then stored in a separate file, where each url representing individual campaigns was loaded onto a custom built webscraper that targeted elements relevant to the project. The resulting html object is then analyzed to return only the relevant information for the project. The resulting csv file is then stored to disk and imported as a dataframe where further data processing is conducted. The final dataset is again stored in csv format and passed on to the CommonFrame database for further annotation by researchers. This forms the initial training data for machine learning models.\n",
    "\n",
    "## Description of Data\n",
    "\n",
    "A total of 7077 campaigns was gathered under 18 different campaign categories. The data includes the individual titles and text description of the campaigns. Descriptive elements for individual campaigns were also included during the scrape which can be used for exploratory data analysis (i.e. EDA / descriptive statistics). \n",
    "\n",
    "The dollar amount for each individual donation is not itemized – just the total sum of donations per campaign. \n",
    "\n",
    "Please note that no attempt was made to verify the legitimacy of campaigns that were included in the dataset.\n",
    "\n",
    "**Deactivated campaigns** were dropped from the collection.\n",
    "\n",
    "The column `story_tokens` is a tokenized copy of the header: `c_story` (campaign descriptions). The Punkt sentence tokenizer from the Python Natural Language Toolkit was used to subset the campaign descriptions."
   ]
  },
  {
   "cell_type": "markdown",
   "metadata": {},
   "source": [
    "|Column Header|Data Type|Description|\n",
    "|:---|:---|:---|\n",
    "|`title`|string|The given title for the campaign as published on the GoFundMe webpage|\n",
    "|`raised`|int64|Total dollar (USD) amount  raised at time of scraping. The actual value in the dataset may change depending on whether the campaign had reached it’s target amount or not.|\n",
    "|`target`|int64|The published target amount for the campaign.|\n",
    "|`m_campaign`|string|One of 18 categories set by GoFundMe to categorize each individual campaign.|\n",
    "|`created_date`|datetime64|The date the campaign was officially launched in the GoFundMe website|\n",
    "|`donors`|float64|Total number of donors for the campaign|\n",
    "|`shares`|float64|Total number of social media shares for the campaign using embedded media sharing feature of the GoFundMe website|\n",
    "|`followers`|float64|Total number of followers for the campaign|\n",
    "|`scrape_date`|datetime64|Date of data mining|\n",
    "|`c_story`|string|A text description of the campaign written by registered users.|\n",
    "|`story_tokens`|list/string|Sentence tokens for c_story to break whole campaign descriptions into sentences (tokens). These tokens are then annotated individually to become part of the training data for the model.|\n"
   ]
  },
  {
   "cell_type": "markdown",
   "metadata": {},
   "source": [
    "## Descriptive Statistics\n",
    "\n",
    "Below is a quick summary of the different campaign categories within the dataset. The first table shows the total number of campaigns per category. The second table compares the category with the most amount raised and shows the *mean* number of donors per campaign .\n",
    "\n",
    "\n",
    "|**Category**|**Number of Campaigns**|\n",
    "|--------|-------------------:|\n",
    "|`medical-fundraiser`|\t584|\n",
    "|`community-fundraiser`|\t574|\n",
    "|`volunteer-fundraiser`|\t458|\n",
    "|`emergency-fundraiser`|\t450|\n",
    "|`family-fundraiser`|\t437|\n",
    "|`faith-fundraiser`|\t434|\n",
    "|`education-fundraiser`|\t432|\n",
    "|`creative-fundraiser`|\t427|\n",
    "|`animal-fundraiser`|\t410|\n",
    "|`memorial-fundraiser`|\t408|\n",
    "|`sports-fundraiser`|\t382|\n",
    "|`event-fundraiser`|\t378|\n",
    "|`business-fundraiser`|\t377|\n",
    "|`travel-fundraiser`|\t369|\n",
    "|`wishes-fundraiser`|\t341|\n",
    "|`competition-fundraiser`|\t338|\n",
    "|`newlywed-fundraiser`|\t191|\n",
    "|`environment-fundraising`|\t9|\n",
    "\n",
    "\n",
    "\n",
    "|**m_campaign**|**donors**|**raised**|\n",
    "|----------|:-----|-----:|\n",
    "|`competition-fundraiser`|\t63.36|\t2,961,875.28|\n",
    "|`newlywed-fundraiser`|\t17.96|\t1,395,502.04|\n",
    "|`travel-fundraiser`|\t64.64|\t264,085.01|\n",
    "|`medical-fundraiser`|\t201.33|\t31,943.06|\n",
    "|`memorial-fundraiser`|\t218.95|\t28,224.20|\n",
    "|`emergency-fundraiser`|\t190.52|\t26,020.81|\n",
    "|`community-fundraiser`|\t84.28|\t11,660.54|\n",
    "|`family-fundraiser`|\t102.96|\t11,300.43|\n",
    "|`animal-fundraiser`|\t80.82|\t6,078.93|\n",
    "|`education-fundraiser`|\t51.66|\t5,723.30|\n",
    "|`volunteer-fundraiser`|\t38.23|\t4,385.90|\n",
    "|`business-fundraiser`|\t52.92|\t4,384.40|\n",
    "|`creative-fundraiser`|\t31.04|\t3,590.32|\n",
    "|`sports-fundraiser`|\t33.72|\t3,029.88|\n",
    "|`wishes-fundraiser`|\t15.98|\t2,111.20|\n",
    "|`environment-fundraising`|\t20.29|\t1,760.33|\n",
    "|`faith-fundraiser`|\t19.70|\t1,591.90|\n",
    "|`event-fundraiser`|\t18.05|\t1,140.53|\n",
    "\n"
   ]
  },
  {
   "cell_type": "code",
   "execution_count": null,
   "metadata": {},
   "outputs": [],
   "source": []
  },
  {
   "cell_type": "code",
   "execution_count": null,
   "metadata": {},
   "outputs": [],
   "source": []
  },
  {
   "cell_type": "code",
   "execution_count": null,
   "metadata": {},
   "outputs": [],
   "source": []
  },
  {
   "cell_type": "code",
   "execution_count": null,
   "metadata": {},
   "outputs": [],
   "source": []
  },
  {
   "cell_type": "code",
   "execution_count": null,
   "metadata": {},
   "outputs": [],
   "source": []
  },
  {
   "cell_type": "code",
   "execution_count": null,
   "metadata": {},
   "outputs": [],
   "source": []
  }
 ],
 "metadata": {
  "kernelspec": {
   "display_name": "Python 3",
   "language": "python",
   "name": "python3"
  },
  "language_info": {
   "codemirror_mode": {
    "name": "ipython",
    "version": 3
   },
   "file_extension": ".py",
   "mimetype": "text/x-python",
   "name": "python",
   "nbconvert_exporter": "python",
   "pygments_lexer": "ipython3",
   "version": "3.8.3"
  }
 },
 "nbformat": 4,
 "nbformat_minor": 4
}
